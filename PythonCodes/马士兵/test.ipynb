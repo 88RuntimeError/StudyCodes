{
 "cells": [
  {
   "cell_type": "code",
   "execution_count": 4,
   "metadata": {},
   "outputs": [
    {
     "name": "stdout",
     "output_type": "stream",
     "text": [
      "2022-06-16\n"
     ]
    }
   ],
   "source": [
    "import pandas as pd\n",
    "import time\n",
    "import datetime\n",
    "\n",
    "now_time=datetime.datetime.now()\n",
    "print((now_time+datetime.timedelta(days=+2)).strftime(\"%Y-%m-%d\"))"
   ]
  }
 ],
 "metadata": {
  "interpreter": {
   "hash": "bb2b7675ff1982643fee946e39a31226c63fb3b657ce82a7ceca1615fe1b5775"
  },
  "kernelspec": {
   "display_name": "Python 3.10.4 64-bit",
   "language": "python",
   "name": "python3"
  },
  "language_info": {
   "codemirror_mode": {
    "name": "ipython",
    "version": 3
   },
   "file_extension": ".py",
   "mimetype": "text/x-python",
   "name": "python",
   "nbconvert_exporter": "python",
   "pygments_lexer": "ipython3",
   "version": "3.10.4"
  },
  "orig_nbformat": 4
 },
 "nbformat": 4,
 "nbformat_minor": 2
}
